{
 "cells": [
  {
   "cell_type": "code",
   "execution_count": null,
   "id": "6782aedc-a929-420c-ae30-19dcc69d7004",
   "metadata": {},
   "outputs": [],
   "source": [
    "A = int(input())\n",
    "B = int(input())\n",
    "\n",
    "SOMA = A + B\n",
    "\n",
    "print(\"SOMA = \",SOMA)"
   ]
  }
 ],
 "metadata": {
  "kernelspec": {
   "display_name": "Python 3 (ipykernel)",
   "language": "python",
   "name": "python3"
  },
  "language_info": {
   "codemirror_mode": {
    "name": "ipython",
    "version": 3
   },
   "file_extension": ".py",
   "mimetype": "text/x-python",
   "name": "python",
   "nbconvert_exporter": "python",
   "pygments_lexer": "ipython3",
   "version": "3.10.9"
  }
 },
 "nbformat": 4,
 "nbformat_minor": 5
}
